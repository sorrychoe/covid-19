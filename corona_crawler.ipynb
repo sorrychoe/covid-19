{
 "cells": [
  {
   "cell_type": "code",
   "execution_count": 1,
   "metadata": {},
   "outputs": [],
   "source": [
    "import time\n",
    "import json\n",
    "import urllib\n",
    "import requests\n",
    "from bs4 import BeautifulSoup\n",
    "from selenium import webdriver\n",
    "from webdriver_manager.chrome import ChromeDriverManager\n",
    "\n",
    "import numpy as np\n",
    "import pandas as pd\n",
    "\n",
    "import re"
   ]
  },
  {
   "cell_type": "code",
   "execution_count": 2,
   "metadata": {},
   "outputs": [],
   "source": [
    "url = \"https://www.worldometers.info/coronavirus/#main_table\"\n",
    "resp = requests.get(url)\n",
    "soup = BeautifulSoup(resp.text)"
   ]
  },
  {
   "cell_type": "code",
   "execution_count": 3,
   "metadata": {},
   "outputs": [],
   "source": [
    "data = soup.find('div',attrs={'class':'main_table_countries_div'}).find(\"table\").findAll('tr')\n",
    "datalist = []\n",
    "for td in data:\n",
    "          x = td.text.replace(\"\\n\",\"~\")\n",
    "          datalist.append(x)\n",
    "columns = \"\".join(datalist[0])\n",
    "columns = list(columns.split(\"~\"))\n",
    "\n",
    "dic = {}\n",
    "for n in columns :\n",
    "  dic[n] =[\"\"]\n",
    "\n",
    "dataset = pd.DataFrame(dic)\n",
    "dataset.rename(columns = {'Tests/': 'Tests/1M pop', 'Serious,Critical': 'SeriousCritical', 'Country,Other':'Country'}, inplace = True)\n",
    "dataset = dataset.drop(columns = [\"\", \"Continent\" ,\"1 Caseevery X ppl1 Deathevery X ppl1 Testevery X ppl\",\t\"New Cases/1M pop\"\t,\"New Deaths/1M pop\",\t\"Active Cases/1M pop\",\"1M pop\"])\n",
    "dataset.drop(0, inplace=True)"
   ]
  },
  {
   "cell_type": "code",
   "execution_count": 4,
   "metadata": {},
   "outputs": [],
   "source": [
    "datalist = []\n",
    "for td in range(9,len(data)):\n",
    "          x = data[td].text.replace(\"\\n\",\"~\")\n",
    "          datalist.append(x)\n",
    "          rs = \"\".join(datalist[td-9])\n",
    "          datalist[td-9] = list(rs.split(\"~\"))\n",
    "          \n",
    "          \n",
    "for rv in range(1,9) :      \n",
    "  del datalist[-1]"
   ]
  },
  {
   "cell_type": "code",
   "execution_count": 5,
   "metadata": {},
   "outputs": [],
   "source": [
    "for x in range(0,len(datalist)):\n",
    "  addraw = datalist[x]\n",
    "  newaddraw = addraw[1:16] \n",
    "\n",
    "  toadd = {'#': newaddraw[0],\n",
    "         'Country': newaddraw[1],\n",
    "         'TotalCases': newaddraw[2],\n",
    "         'NewCases':newaddraw[3],\n",
    "         'TotalDeaths': newaddraw[4],\n",
    "         'NewDeaths': newaddraw[5],\n",
    "         'TotalRecovered': newaddraw[6],\n",
    "         'NewRecovered': newaddraw[7],\n",
    "         'ActiveCases': newaddraw[8],\n",
    "         'SeriousCritical': newaddraw[9],\n",
    "         'Tot Cases/1M pop': newaddraw[10],\n",
    "         'Deaths/1M pop': newaddraw[11],\n",
    "         'TotalTests': newaddraw[12],\n",
    "         'Tests/1M pop': newaddraw[13],\n",
    "         'Population': newaddraw[14]}\n",
    "  \n",
    "  df = pd.DataFrame.from_dict([toadd])\n",
    "  dataset = pd.concat([dataset, df], ignore_index=True)"
   ]
  },
  {
   "cell_type": "code",
   "execution_count": 6,
   "metadata": {},
   "outputs": [],
   "source": [
    "dataset.drop('#', axis = 1, inplace=True)\n",
    "dataset.dropna(axis = 1, inplace=True)\n",
    "dataset[\"TotalDeaths\"] = dataset[\"TotalDeaths\"].str.replace(\" \", \"\")"
   ]
  },
  {
   "cell_type": "code",
   "execution_count": 7,
   "metadata": {},
   "outputs": [],
   "source": [
    "dataset = dataset.replace(\"\", 0)\n",
    "dataset = dataset.replace(\"N/A\", 0)\n",
    "dataset = dataset.replace(\" \", 0)"
   ]
  },
  {
   "cell_type": "code",
   "execution_count": 8,
   "metadata": {},
   "outputs": [],
   "source": [
    "def comma_seperater(x):\n",
    "    a = re.sub(' ', \"\", str(x))\n",
    "    a = re.sub(\",\", '', a)\n",
    "    b = int(a)\n",
    "    return b"
   ]
  },
  {
   "cell_type": "code",
   "execution_count": 9,
   "metadata": {},
   "outputs": [],
   "source": [
    "for i in dataset.columns[1:]:\n",
    "    if \"New\" in i:\n",
    "        pass\n",
    "    else:\n",
    "        dataset[i] = dataset[i].apply(comma_seperater)"
   ]
  },
  {
   "cell_type": "code",
   "execution_count": 10,
   "metadata": {},
   "outputs": [],
   "source": [
    "dataset.sort_values(\"TotalCases\", ascending=False, inplace= True)\n",
    "dataset.reset_index(drop=True, inplace=True)\n",
    "dataset.to_excel(\"corona.xlsx\", index = False)"
   ]
  }
 ],
 "metadata": {
  "kernelspec": {
   "display_name": "vspy",
   "language": "python",
   "name": "python3"
  },
  "language_info": {
   "codemirror_mode": {
    "name": "ipython",
    "version": 3
   },
   "file_extension": ".py",
   "mimetype": "text/x-python",
   "name": "python",
   "nbconvert_exporter": "python",
   "pygments_lexer": "ipython3",
   "version": "3.8.12"
  },
  "orig_nbformat": 4,
  "vscode": {
   "interpreter": {
    "hash": "bd98791f9f8d881381cfe46a0ac0002dc16e797b92b23094ec7ddf509d6e41af"
   }
  }
 },
 "nbformat": 4,
 "nbformat_minor": 2
}
